{
 "cells": [
  {
   "attachments": {},
   "cell_type": "markdown",
   "id": "f0c92110",
   "metadata": {
    "authors": [
     {
      "name": "Aurel Nicolae"
     }
    ],
    "title": "Football League Generator"
   },
   "source": [
    "# <font color=cyan>Football League Generator</font>\n",
    "## Object Oriented Programming Version\n",
    "\n",
    "In this version of the football league generator inspired by Paul Kelly's video https://youtu.be/JcVpyIFxUDw, I have tried to encapsulate most of the functionality in classes. The class scripts can be found in the current folder.\n",
    "\n",
    "Requires the following libraries to be installed on your local machine: \n",
    "* https://pypi.org/project/pandas/\n",
    "* https://pypi.org/project/xlwings/\n",
    "* https://pypi.org/project/ipywidgets/\n"
   ]
  },
  {
   "cell_type": "code",
   "execution_count": 1,
   "id": "946f19f6",
   "metadata": {},
   "outputs": [],
   "source": [
    "from MatchSchedule import *\n",
    "from KeepScore import *\n",
    "from LeagueTable import *\n",
    "from ConnectExcel import *\n",
    "from FilterMatches import *\n",
    "import ipywidgets as widget\n",
    "import matplotlib.pyplot as plt"
   ]
  },
  {
   "cell_type": "markdown",
   "id": "5a476dac",
   "metadata": {},
   "source": [
    "# Teams and Match Schedules\n",
    "Manually enter your league's names here:"
   ]
  },
  {
   "cell_type": "code",
   "execution_count": 2,
   "id": "7b678553",
   "metadata": {},
   "outputs": [],
   "source": [
    "teams = \\\n",
    "    ['Arsenal', 'Brentford', 'Chelsea', 'Everton', 'Fulham', 'Wolves', 'Liverpool', 'Tottenham', \n",
    "     'ManCity', 'ManUtd', 'AstonVilla', 'Blackburn', 'QPR', 'Reading', 'WestHam', 'Sunderland', \n",
    "     'Southampton', 'Stoke', 'Leicester', 'Leeds']\n"
   ]
  },
  {
   "cell_type": "markdown",
   "id": "e09ca9a0",
   "metadata": {},
   "source": [
    "Use the MatchSchedule class that manage the teams list and match schedules."
   ]
  },
  {
   "cell_type": "code",
   "execution_count": 3,
   "id": "7c41a5de",
   "metadata": {},
   "outputs": [],
   "source": [
    "# create a new instance\n",
    "my_schedule = MatchSchedule(teams_list=teams)\n",
    "# print(my_schedule.teams)"
   ]
  },
  {
   "cell_type": "code",
   "execution_count": 4,
   "id": "a844d70f",
   "metadata": {},
   "outputs": [],
   "source": [
    "# create the initial schedule\n",
    "my_schedule.create_schedule()\n",
    "# print(my_schedule.schedule)"
   ]
  },
  {
   "cell_type": "code",
   "execution_count": 5,
   "id": "c5a6dc21",
   "metadata": {},
   "outputs": [],
   "source": [
    "# mirror the schedule such that we obtain the Home and Away matches\n",
    "my_schedule.mirror_schedule()\n",
    "# print(my_schedule.schedule)"
   ]
  },
  {
   "cell_type": "code",
   "execution_count": 6,
   "id": "d598c2c8",
   "metadata": {},
   "outputs": [],
   "source": [
    "# next flatten schedule to a 2d list so that convert schedule to a pandas dataframe\n",
    "my_schedule.flatten_schedule()\n",
    "# print(my_schedule.flat_schedule)"
   ]
  },
  {
   "cell_type": "markdown",
   "id": "f18ceeb0",
   "metadata": {},
   "source": [
    "# Keep Score\n",
    "\n",
    "You can either simulate scores using the provided random score generator functionallity or enter results manually.\n"
   ]
  },
  {
   "cell_type": "markdown",
   "id": "61215f72",
   "metadata": {},
   "source": [
    "## Simulate scores\n",
    "\n",
    "Use the provided KeepScore.py class."
   ]
  },
  {
   "cell_type": "code",
   "execution_count": 7,
   "id": "07573648",
   "metadata": {},
   "outputs": [],
   "source": [
    "# create new instance\n",
    "my_scores = KeepScore(my_schedule)"
   ]
  },
  {
   "cell_type": "code",
   "execution_count": 8,
   "id": "fe501f8b",
   "metadata": {},
   "outputs": [],
   "source": [
    "# configure empty scores for each match\n",
    "my_scores.config_match_scores()\n",
    "# print(my_schedule.scores)"
   ]
  },
  {
   "cell_type": "code",
   "execution_count": 9,
   "id": "8b77d7d7",
   "metadata": {},
   "outputs": [
    {
     "name": "stdout",
     "output_type": "stream",
     "text": [
      "     event  match    host_team  guest_team host_score guest_score\n",
      "0        1      1      ManCity         QPR          0           0\n",
      "1        1      2    Liverpool     Everton          1           0\n",
      "2        1      3       Fulham   Tottenham          0           3\n",
      "3        1      4  Southampton       Stoke          0           1\n",
      "4        1      5        Leeds   Blackburn          0           3\n",
      "..     ...    ...          ...         ...        ...         ...\n",
      "375     38    376       Wolves       Leeds          3           8\n",
      "376     38    377      Arsenal  AstonVilla          0           0\n",
      "377     38    378      Chelsea      ManUtd          2           1\n",
      "378     38    379      WestHam   Brentford          6           0\n",
      "379     38    380    Leicester  Sunderland          1           0\n",
      "\n",
      "[380 rows x 6 columns]\n"
     ]
    }
   ],
   "source": [
    "# simulate match scores randomly\n",
    "my_scores.generate_random_match_scores()\n",
    "print(my_scores.scores)"
   ]
  },
  {
   "cell_type": "markdown",
   "id": "23bc494b",
   "metadata": {},
   "source": [
    "## Inputing scores via xlwings\n",
    "\n",
    "Requires install: https://pypi.org/project/xlwings/\n",
    "\n",
    "```pip install xlwings```\n",
    "\n",
    "<font color=red>Coming soon...</font>"
   ]
  },
  {
   "cell_type": "code",
   "execution_count": 10,
   "id": "cffe6d6a",
   "metadata": {},
   "outputs": [],
   "source": [
    "# create new instance\n",
    "# xlconn = ConnExcel(my_scores)"
   ]
  },
  {
   "cell_type": "code",
   "execution_count": 11,
   "id": "d1d3376d",
   "metadata": {},
   "outputs": [],
   "source": [
    "# view simulated results in excel (optional) - requires https://pypi.org/project/xlwings/\n",
    "# xlconn.view_results_in_excel()"
   ]
  },
  {
   "attachments": {},
   "cell_type": "markdown",
   "id": "5f3e2f50",
   "metadata": {},
   "source": [
    "# League table\n",
    "\n",
    "Putting the league table in a pandas DataFrame as it is easier to analyze."
   ]
  },
  {
   "cell_type": "code",
   "execution_count": 12,
   "id": "f53a6e6c",
   "metadata": {},
   "outputs": [],
   "source": [
    "# create new instance\n",
    "my_league = LeagueTable(my_scores)"
   ]
  },
  {
   "cell_type": "code",
   "execution_count": 13,
   "id": "e5eafc0d",
   "metadata": {},
   "outputs": [],
   "source": [
    "# # update_table(df_league, df_matches)\n",
    "my_league.update_table()\n",
    "# print(my_league.league)"
   ]
  },
  {
   "cell_type": "code",
   "execution_count": 14,
   "id": "c71766e9",
   "metadata": {},
   "outputs": [
    {
     "name": "stdout",
     "output_type": "stream",
     "text": [
      "           Team  MP   W   D   L   GF   GA  GD  Pts\n",
      "0       ManCity  38  20   6  12   96   75  21   66\n",
      "1     Liverpool  38  20   4  14  101   71  30   64\n",
      "2       Everton  38  19   5  14   95   70  25   62\n",
      "3         Leeds  38  19   4  15  107   94  13   61\n",
      "4           QPR  38  17   8  13   87   55  32   59\n",
      "5       Reading  38  18   5  15  102   86  16   59\n",
      "6        Wolves  38  17   7  14   86   69  17   58\n",
      "7     Tottenham  38  16   9  13   78   66  12   57\n",
      "8       Arsenal  38  16   9  13   66   58   8   57\n",
      "9    Sunderland  38  16   9  13   83   88  -5   57\n",
      "10    Blackburn  38  15  11  12   79   72   7   56\n",
      "11    Brentford  38  16   6  16   76   75   1   54\n",
      "12        Stoke  38  16   5  17   97  100  -3   53\n",
      "13      Chelsea  38  16   4  18   68   96 -28   52\n",
      "14   AstonVilla  38  14   8  16   83   89  -6   50\n",
      "15    Leicester  38  14   8  16   60   86 -26   50\n",
      "16      WestHam  38  13   5  20   78  107 -29   44\n",
      "17  Southampton  38  12   6  20   87  101 -14   42\n",
      "18       ManUtd  38  12   6  20   78   92 -14   42\n",
      "19       Fulham  38   7   9  22   74  131 -57   30\n"
     ]
    }
   ],
   "source": [
    "my_league.sort_table()\n",
    "print(my_league.league)"
   ]
  },
  {
   "cell_type": "code",
   "execution_count": 15,
   "id": "475292e7",
   "metadata": {},
   "outputs": [
    {
     "data": {
      "image/png": "[encoded data removed]",
      "text/plain": [
       "<Figure size 640x480 with 1 Axes>"
      ]
     },
     "metadata": {},
     "output_type": "display_data"
    }
   ],
   "source": [
    "_ = my_league.plot_wins_draw_losses()"
   ]
  },
  {
   "cell_type": "markdown",
   "id": "f1ace80d",
   "metadata": {},
   "source": [
    "# Filter matches on a team\n",
    "\n",
    "Requires installation on local machine: https://pypi.org/project/ipywidgets/\n",
    "\n",
    "```pip install ipywidgets```"
   ]
  },
  {
   "cell_type": "code",
   "execution_count": 16,
   "id": "037668ab",
   "metadata": {},
   "outputs": [],
   "source": [
    "team_filter = FilterMatches(my_scores, my_schedule)"
   ]
  },
  {
   "cell_type": "code",
   "execution_count": 17,
   "id": "95ac1b69",
   "metadata": {},
   "outputs": [],
   "source": [
    "# create dropdown list widget instance\n",
    "dd_widget = widget.Dropdown(options=sorted(my_schedule.original_teams), description='Select team:')"
   ]
  },
  {
   "cell_type": "code",
   "execution_count": 18,
   "id": "1f79d4e9",
   "metadata": {},
   "outputs": [
    {
     "data": {
      "application/vnd.jupyter.widget-view+json": {
       "model_id": "0fe7f0f957054bbe8abbbdfc46769a54",
       "version_major": 2,
       "version_minor": 0
      },
      "text/plain": [
       "Dropdown(description='Select team:', options=('Arsenal', 'AstonVilla', 'Blackburn', 'Brentford', 'Chelsea', 'E…"
      ]
     },
     "metadata": {},
     "output_type": "display_data"
    }
   ],
   "source": [
    "# display dropdown list, then please make selection\n",
    "dd_widget"
   ]
  },
  {
   "cell_type": "code",
   "execution_count": 19,
   "id": "cccafa13",
   "metadata": {},
   "outputs": [
    {
     "name": "stdout",
     "output_type": "stream",
     "text": [
      "You have selected: Arsenal\n"
     ]
    }
   ],
   "source": [
    "team_filter.selected_team = str(dd_widget.value)\n",
    "print(f\"You have selected: {team_filter.selected_team}\")"
   ]
  },
  {
   "attachments": {},
   "cell_type": "markdown",
   "id": "1afcdbb8",
   "metadata": {},
   "source": [
    "## Wins, Draws and Losses \n",
    "\n",
    "Wins, draws and losses history for the selected team."
   ]
  },
  {
   "cell_type": "code",
   "execution_count": 20,
   "id": "e0457838",
   "metadata": {},
   "outputs": [
    {
     "data": {
      "text/html": [
       "<style type=\"text/css\">\n",
       "#T_f3ce4_row0_col6, #T_f3ce4_row2_col6, #T_f3ce4_row3_col6, #T_f3ce4_row4_col6, #T_f3ce4_row10_col6, #T_f3ce4_row15_col6, #T_f3ce4_row20_col6, #T_f3ce4_row24_col6, #T_f3ce4_row27_col6, #T_f3ce4_row29_col6, #T_f3ce4_row33_col6, #T_f3ce4_row34_col6, #T_f3ce4_row35_col6 {\n",
       "  background-color: red;\n",
       "}\n",
       "#T_f3ce4_row1_col6, #T_f3ce4_row5_col6, #T_f3ce4_row8_col6, #T_f3ce4_row9_col6, #T_f3ce4_row13_col6, #T_f3ce4_row14_col6, #T_f3ce4_row16_col6, #T_f3ce4_row17_col6, #T_f3ce4_row18_col6, #T_f3ce4_row22_col6, #T_f3ce4_row23_col6, #T_f3ce4_row25_col6, #T_f3ce4_row26_col6, #T_f3ce4_row30_col6, #T_f3ce4_row32_col6, #T_f3ce4_row36_col6 {\n",
       "  background-color: green;\n",
       "}\n",
       "</style>\n",
       "<table id=\"T_f3ce4\">\n",
       "  <thead>\n",
       "    <tr>\n",
       "      <th class=\"blank level0\" >&nbsp;</th>\n",
       "      <th id=\"T_f3ce4_level0_col0\" class=\"col_heading level0 col0\" >event</th>\n",
       "      <th id=\"T_f3ce4_level0_col1\" class=\"col_heading level0 col1\" >match</th>\n",
       "      <th id=\"T_f3ce4_level0_col2\" class=\"col_heading level0 col2\" >host_team</th>\n",
       "      <th id=\"T_f3ce4_level0_col3\" class=\"col_heading level0 col3\" >guest_team</th>\n",
       "      <th id=\"T_f3ce4_level0_col4\" class=\"col_heading level0 col4\" >host_score</th>\n",
       "      <th id=\"T_f3ce4_level0_col5\" class=\"col_heading level0 col5\" >guest_score</th>\n",
       "      <th id=\"T_f3ce4_level0_col6\" class=\"col_heading level0 col6\" >Arsenal_WDL</th>\n",
       "    </tr>\n",
       "  </thead>\n",
       "  <tbody>\n",
       "    <tr>\n",
       "      <th id=\"T_f3ce4_level0_row0\" class=\"row_heading level0 row0\" >0</th>\n",
       "      <td id=\"T_f3ce4_row0_col0\" class=\"data row0 col0\" >1</td>\n",
       "      <td id=\"T_f3ce4_row0_col1\" class=\"data row0 col1\" >8</td>\n",
       "      <td id=\"T_f3ce4_row0_col2\" class=\"data row0 col2\" >Brentford</td>\n",
       "      <td id=\"T_f3ce4_row0_col3\" class=\"data row0 col3\" >Arsenal</td>\n",
       "      <td id=\"T_f3ce4_row0_col4\" class=\"data row0 col4\" >7</td>\n",
       "      <td id=\"T_f3ce4_row0_col5\" class=\"data row0 col5\" >2</td>\n",
       "      <td id=\"T_f3ce4_row0_col6\" class=\"data row0 col6\" >-1</td>\n",
       "    </tr>\n",
       "    <tr>\n",
       "      <th id=\"T_f3ce4_level0_row1\" class=\"row_heading level0 row1\" >1</th>\n",
       "      <td id=\"T_f3ce4_row1_col0\" class=\"data row1 col0\" >2</td>\n",
       "      <td id=\"T_f3ce4_row1_col1\" class=\"data row1 col1\" >19</td>\n",
       "      <td id=\"T_f3ce4_row1_col2\" class=\"data row1 col2\" >Leicester</td>\n",
       "      <td id=\"T_f3ce4_row1_col3\" class=\"data row1 col3\" >Arsenal</td>\n",
       "      <td id=\"T_f3ce4_row1_col4\" class=\"data row1 col4\" >0</td>\n",
       "      <td id=\"T_f3ce4_row1_col5\" class=\"data row1 col5\" >2</td>\n",
       "      <td id=\"T_f3ce4_row1_col6\" class=\"data row1 col6\" >1</td>\n",
       "    </tr>\n",
       "    <tr>\n",
       "      <th id=\"T_f3ce4_level0_row2\" class=\"row_heading level0 row2\" >2</th>\n",
       "      <td id=\"T_f3ce4_row2_col0\" class=\"data row2 col0\" >3</td>\n",
       "      <td id=\"T_f3ce4_row2_col1\" class=\"data row2 col1\" >30</td>\n",
       "      <td id=\"T_f3ce4_row2_col2\" class=\"data row2 col2\" >Chelsea</td>\n",
       "      <td id=\"T_f3ce4_row2_col3\" class=\"data row2 col3\" >Arsenal</td>\n",
       "      <td id=\"T_f3ce4_row2_col4\" class=\"data row2 col4\" >2</td>\n",
       "      <td id=\"T_f3ce4_row2_col5\" class=\"data row2 col5\" >1</td>\n",
       "      <td id=\"T_f3ce4_row2_col6\" class=\"data row2 col6\" >-1</td>\n",
       "    </tr>\n",
       "    <tr>\n",
       "      <th id=\"T_f3ce4_level0_row3\" class=\"row_heading level0 row3\" >3</th>\n",
       "      <td id=\"T_f3ce4_row3_col0\" class=\"data row3 col0\" >4</td>\n",
       "      <td id=\"T_f3ce4_row3_col1\" class=\"data row3 col1\" >40</td>\n",
       "      <td id=\"T_f3ce4_row3_col2\" class=\"data row3 col2\" >Arsenal</td>\n",
       "      <td id=\"T_f3ce4_row3_col3\" class=\"data row3 col3\" >Wolves</td>\n",
       "      <td id=\"T_f3ce4_row3_col4\" class=\"data row3 col4\" >0</td>\n",
       "      <td id=\"T_f3ce4_row3_col5\" class=\"data row3 col5\" >5</td>\n",
       "      <td id=\"T_f3ce4_row3_col6\" class=\"data row3 col6\" >-1</td>\n",
       "    </tr>\n",
       "    <tr>\n",
       "      <th id=\"T_f3ce4_level0_row4\" class=\"row_heading level0 row4\" >4</th>\n",
       "      <td id=\"T_f3ce4_row4_col0\" class=\"data row4 col0\" >5</td>\n",
       "      <td id=\"T_f3ce4_row4_col1\" class=\"data row4 col1\" >49</td>\n",
       "      <td id=\"T_f3ce4_row4_col2\" class=\"data row4 col2\" >Arsenal</td>\n",
       "      <td id=\"T_f3ce4_row4_col3\" class=\"data row4 col3\" >Blackburn</td>\n",
       "      <td id=\"T_f3ce4_row4_col4\" class=\"data row4 col4\" >2</td>\n",
       "      <td id=\"T_f3ce4_row4_col5\" class=\"data row4 col5\" >3</td>\n",
       "      <td id=\"T_f3ce4_row4_col6\" class=\"data row4 col6\" >-1</td>\n",
       "    </tr>\n",
       "    <tr>\n",
       "      <th id=\"T_f3ce4_level0_row5\" class=\"row_heading level0 row5\" >5</th>\n",
       "      <td id=\"T_f3ce4_row5_col0\" class=\"data row5 col0\" >6</td>\n",
       "      <td id=\"T_f3ce4_row5_col1\" class=\"data row5 col1\" >58</td>\n",
       "      <td id=\"T_f3ce4_row5_col2\" class=\"data row5 col2\" >Arsenal</td>\n",
       "      <td id=\"T_f3ce4_row5_col3\" class=\"data row5 col3\" >Tottenham</td>\n",
       "      <td id=\"T_f3ce4_row5_col4\" class=\"data row5 col4\" >1</td>\n",
       "      <td id=\"T_f3ce4_row5_col5\" class=\"data row5 col5\" >0</td>\n",
       "      <td id=\"T_f3ce4_row5_col6\" class=\"data row5 col6\" >1</td>\n",
       "    </tr>\n",
       "    <tr>\n",
       "      <th id=\"T_f3ce4_level0_row6\" class=\"row_heading level0 row6\" >6</th>\n",
       "      <td id=\"T_f3ce4_row6_col0\" class=\"data row6 col0\" >7</td>\n",
       "      <td id=\"T_f3ce4_row6_col1\" class=\"data row6 col1\" >67</td>\n",
       "      <td id=\"T_f3ce4_row6_col2\" class=\"data row6 col2\" >Arsenal</td>\n",
       "      <td id=\"T_f3ce4_row6_col3\" class=\"data row6 col3\" >QPR</td>\n",
       "      <td id=\"T_f3ce4_row6_col4\" class=\"data row6 col4\" >0</td>\n",
       "      <td id=\"T_f3ce4_row6_col5\" class=\"data row6 col5\" >0</td>\n",
       "      <td id=\"T_f3ce4_row6_col6\" class=\"data row6 col6\" >0</td>\n",
       "    </tr>\n",
       "    <tr>\n",
       "      <th id=\"T_f3ce4_level0_row7\" class=\"row_heading level0 row7\" >7</th>\n",
       "      <td id=\"T_f3ce4_row7_col0\" class=\"data row7 col0\" >8</td>\n",
       "      <td id=\"T_f3ce4_row7_col1\" class=\"data row7 col1\" >76</td>\n",
       "      <td id=\"T_f3ce4_row7_col2\" class=\"data row7 col2\" >Arsenal</td>\n",
       "      <td id=\"T_f3ce4_row7_col3\" class=\"data row7 col3\" >Fulham</td>\n",
       "      <td id=\"T_f3ce4_row7_col4\" class=\"data row7 col4\" >0</td>\n",
       "      <td id=\"T_f3ce4_row7_col5\" class=\"data row7 col5\" >0</td>\n",
       "      <td id=\"T_f3ce4_row7_col6\" class=\"data row7 col6\" >0</td>\n",
       "    </tr>\n",
       "    <tr>\n",
       "      <th id=\"T_f3ce4_level0_row8\" class=\"row_heading level0 row8\" >8</th>\n",
       "      <td id=\"T_f3ce4_row8_col0\" class=\"data row8 col0\" >9</td>\n",
       "      <td id=\"T_f3ce4_row8_col1\" class=\"data row8 col1\" >85</td>\n",
       "      <td id=\"T_f3ce4_row8_col2\" class=\"data row8 col2\" >Arsenal</td>\n",
       "      <td id=\"T_f3ce4_row8_col3\" class=\"data row8 col3\" >Leeds</td>\n",
       "      <td id=\"T_f3ce4_row8_col4\" class=\"data row8 col4\" >5</td>\n",
       "      <td id=\"T_f3ce4_row8_col5\" class=\"data row8 col5\" >1</td>\n",
       "      <td id=\"T_f3ce4_row8_col6\" class=\"data row8 col6\" >1</td>\n",
       "    </tr>\n",
       "    <tr>\n",
       "      <th id=\"T_f3ce4_level0_row9\" class=\"row_heading level0 row9\" >9</th>\n",
       "      <td id=\"T_f3ce4_row9_col0\" class=\"data row9 col0\" >10</td>\n",
       "      <td id=\"T_f3ce4_row9_col1\" class=\"data row9 col1\" >94</td>\n",
       "      <td id=\"T_f3ce4_row9_col2\" class=\"data row9 col2\" >Arsenal</td>\n",
       "      <td id=\"T_f3ce4_row9_col3\" class=\"data row9 col3\" >ManUtd</td>\n",
       "      <td id=\"T_f3ce4_row9_col4\" class=\"data row9 col4\" >2</td>\n",
       "      <td id=\"T_f3ce4_row9_col5\" class=\"data row9 col5\" >1</td>\n",
       "      <td id=\"T_f3ce4_row9_col6\" class=\"data row9 col6\" >1</td>\n",
       "    </tr>\n",
       "    <tr>\n",
       "      <th id=\"T_f3ce4_level0_row10\" class=\"row_heading level0 row10\" >10</th>\n",
       "      <td id=\"T_f3ce4_row10_col0\" class=\"data row10 col0\" >11</td>\n",
       "      <td id=\"T_f3ce4_row10_col1\" class=\"data row10 col1\" >103</td>\n",
       "      <td id=\"T_f3ce4_row10_col2\" class=\"data row10 col2\" >Arsenal</td>\n",
       "      <td id=\"T_f3ce4_row10_col3\" class=\"data row10 col3\" >Sunderland</td>\n",
       "      <td id=\"T_f3ce4_row10_col4\" class=\"data row10 col4\" >0</td>\n",
       "      <td id=\"T_f3ce4_row10_col5\" class=\"data row10 col5\" >1</td>\n",
       "      <td id=\"T_f3ce4_row10_col6\" class=\"data row10 col6\" >-1</td>\n",
       "    </tr>\n",
       "    <tr>\n",
       "      <th id=\"T_f3ce4_level0_row11\" class=\"row_heading level0 row11\" >11</th>\n",
       "      <td id=\"T_f3ce4_row11_col0\" class=\"data row11 col0\" >12</td>\n",
       "      <td id=\"T_f3ce4_row11_col1\" class=\"data row11 col1\" >112</td>\n",
       "      <td id=\"T_f3ce4_row11_col2\" class=\"data row11 col2\" >Arsenal</td>\n",
       "      <td id=\"T_f3ce4_row11_col3\" class=\"data row11 col3\" >WestHam</td>\n",
       "      <td id=\"T_f3ce4_row11_col4\" class=\"data row11 col4\" >0</td>\n",
       "      <td id=\"T_f3ce4_row11_col5\" class=\"data row11 col5\" >0</td>\n",
       "      <td id=\"T_f3ce4_row11_col6\" class=\"data row11 col6\" >0</td>\n",
       "    </tr>\n",
       "    <tr>\n",
       "      <th id=\"T_f3ce4_level0_row12\" class=\"row_heading level0 row12\" >12</th>\n",
       "      <td id=\"T_f3ce4_row12_col0\" class=\"data row12 col0\" >13</td>\n",
       "      <td id=\"T_f3ce4_row12_col1\" class=\"data row12 col1\" >121</td>\n",
       "      <td id=\"T_f3ce4_row12_col2\" class=\"data row12 col2\" >ManCity</td>\n",
       "      <td id=\"T_f3ce4_row12_col3\" class=\"data row12 col3\" >Arsenal</td>\n",
       "      <td id=\"T_f3ce4_row12_col4\" class=\"data row12 col4\" >0</td>\n",
       "      <td id=\"T_f3ce4_row12_col5\" class=\"data row12 col5\" >0</td>\n",
       "      <td id=\"T_f3ce4_row12_col6\" class=\"data row12 col6\" >0</td>\n",
       "    </tr>\n",
       "    <tr>\n",
       "      <th id=\"T_f3ce4_level0_row13\" class=\"row_heading level0 row13\" >13</th>\n",
       "      <td id=\"T_f3ce4_row13_col0\" class=\"data row13 col0\" >14</td>\n",
       "      <td id=\"T_f3ce4_row13_col1\" class=\"data row13 col1\" >132</td>\n",
       "      <td id=\"T_f3ce4_row13_col2\" class=\"data row13 col2\" >Reading</td>\n",
       "      <td id=\"T_f3ce4_row13_col3\" class=\"data row13 col3\" >Arsenal</td>\n",
       "      <td id=\"T_f3ce4_row13_col4\" class=\"data row13 col4\" >0</td>\n",
       "      <td id=\"T_f3ce4_row13_col5\" class=\"data row13 col5\" >2</td>\n",
       "      <td id=\"T_f3ce4_row13_col6\" class=\"data row13 col6\" >1</td>\n",
       "    </tr>\n",
       "    <tr>\n",
       "      <th id=\"T_f3ce4_level0_row14\" class=\"row_heading level0 row14\" >14</th>\n",
       "      <td id=\"T_f3ce4_row14_col0\" class=\"data row14 col0\" >15</td>\n",
       "      <td id=\"T_f3ce4_row14_col1\" class=\"data row14 col1\" >143</td>\n",
       "      <td id=\"T_f3ce4_row14_col2\" class=\"data row14 col2\" >Stoke</td>\n",
       "      <td id=\"T_f3ce4_row14_col3\" class=\"data row14 col3\" >Arsenal</td>\n",
       "      <td id=\"T_f3ce4_row14_col4\" class=\"data row14 col4\" >0</td>\n",
       "      <td id=\"T_f3ce4_row14_col5\" class=\"data row14 col5\" >1</td>\n",
       "      <td id=\"T_f3ce4_row14_col6\" class=\"data row14 col6\" >1</td>\n",
       "    </tr>\n",
       "    <tr>\n",
       "      <th id=\"T_f3ce4_level0_row15\" class=\"row_heading level0 row15\" >15</th>\n",
       "      <td id=\"T_f3ce4_row15_col0\" class=\"data row15 col0\" >16</td>\n",
       "      <td id=\"T_f3ce4_row15_col1\" class=\"data row15 col1\" >154</td>\n",
       "      <td id=\"T_f3ce4_row15_col2\" class=\"data row15 col2\" >Everton</td>\n",
       "      <td id=\"T_f3ce4_row15_col3\" class=\"data row15 col3\" >Arsenal</td>\n",
       "      <td id=\"T_f3ce4_row15_col4\" class=\"data row15 col4\" >7</td>\n",
       "      <td id=\"T_f3ce4_row15_col5\" class=\"data row15 col5\" >0</td>\n",
       "      <td id=\"T_f3ce4_row15_col6\" class=\"data row15 col6\" >-1</td>\n",
       "    </tr>\n",
       "    <tr>\n",
       "      <th id=\"T_f3ce4_level0_row16\" class=\"row_heading level0 row16\" >16</th>\n",
       "      <td id=\"T_f3ce4_row16_col0\" class=\"data row16 col0\" >17</td>\n",
       "      <td id=\"T_f3ce4_row16_col1\" class=\"data row16 col1\" >165</td>\n",
       "      <td id=\"T_f3ce4_row16_col2\" class=\"data row16 col2\" >Liverpool</td>\n",
       "      <td id=\"T_f3ce4_row16_col3\" class=\"data row16 col3\" >Arsenal</td>\n",
       "      <td id=\"T_f3ce4_row16_col4\" class=\"data row16 col4\" >0</td>\n",
       "      <td id=\"T_f3ce4_row16_col5\" class=\"data row16 col5\" >5</td>\n",
       "      <td id=\"T_f3ce4_row16_col6\" class=\"data row16 col6\" >1</td>\n",
       "    </tr>\n",
       "    <tr>\n",
       "      <th id=\"T_f3ce4_level0_row17\" class=\"row_heading level0 row17\" >17</th>\n",
       "      <td id=\"T_f3ce4_row17_col0\" class=\"data row17 col0\" >18</td>\n",
       "      <td id=\"T_f3ce4_row17_col1\" class=\"data row17 col1\" >176</td>\n",
       "      <td id=\"T_f3ce4_row17_col2\" class=\"data row17 col2\" >Southampton</td>\n",
       "      <td id=\"T_f3ce4_row17_col3\" class=\"data row17 col3\" >Arsenal</td>\n",
       "      <td id=\"T_f3ce4_row17_col4\" class=\"data row17 col4\" >4</td>\n",
       "      <td id=\"T_f3ce4_row17_col5\" class=\"data row17 col5\" >5</td>\n",
       "      <td id=\"T_f3ce4_row17_col6\" class=\"data row17 col6\" >1</td>\n",
       "    </tr>\n",
       "    <tr>\n",
       "      <th id=\"T_f3ce4_level0_row18\" class=\"row_heading level0 row18\" >18</th>\n",
       "      <td id=\"T_f3ce4_row18_col0\" class=\"data row18 col0\" >19</td>\n",
       "      <td id=\"T_f3ce4_row18_col1\" class=\"data row18 col1\" >187</td>\n",
       "      <td id=\"T_f3ce4_row18_col2\" class=\"data row18 col2\" >AstonVilla</td>\n",
       "      <td id=\"T_f3ce4_row18_col3\" class=\"data row18 col3\" >Arsenal</td>\n",
       "      <td id=\"T_f3ce4_row18_col4\" class=\"data row18 col4\" >0</td>\n",
       "      <td id=\"T_f3ce4_row18_col5\" class=\"data row18 col5\" >9</td>\n",
       "      <td id=\"T_f3ce4_row18_col6\" class=\"data row18 col6\" >1</td>\n",
       "    </tr>\n",
       "    <tr>\n",
       "      <th id=\"T_f3ce4_level0_row19\" class=\"row_heading level0 row19\" >19</th>\n",
       "      <td id=\"T_f3ce4_row19_col0\" class=\"data row19 col0\" >20</td>\n",
       "      <td id=\"T_f3ce4_row19_col1\" class=\"data row19 col1\" >198</td>\n",
       "      <td id=\"T_f3ce4_row19_col2\" class=\"data row19 col2\" >Arsenal</td>\n",
       "      <td id=\"T_f3ce4_row19_col3\" class=\"data row19 col3\" >Brentford</td>\n",
       "      <td id=\"T_f3ce4_row19_col4\" class=\"data row19 col4\" >0</td>\n",
       "      <td id=\"T_f3ce4_row19_col5\" class=\"data row19 col5\" >0</td>\n",
       "      <td id=\"T_f3ce4_row19_col6\" class=\"data row19 col6\" >0</td>\n",
       "    </tr>\n",
       "    <tr>\n",
       "      <th id=\"T_f3ce4_level0_row20\" class=\"row_heading level0 row20\" >20</th>\n",
       "      <td id=\"T_f3ce4_row20_col0\" class=\"data row20 col0\" >21</td>\n",
       "      <td id=\"T_f3ce4_row20_col1\" class=\"data row20 col1\" >209</td>\n",
       "      <td id=\"T_f3ce4_row20_col2\" class=\"data row20 col2\" >Arsenal</td>\n",
       "      <td id=\"T_f3ce4_row20_col3\" class=\"data row20 col3\" >Leicester</td>\n",
       "      <td id=\"T_f3ce4_row20_col4\" class=\"data row20 col4\" >0</td>\n",
       "      <td id=\"T_f3ce4_row20_col5\" class=\"data row20 col5\" >1</td>\n",
       "      <td id=\"T_f3ce4_row20_col6\" class=\"data row20 col6\" >-1</td>\n",
       "    </tr>\n",
       "    <tr>\n",
       "      <th id=\"T_f3ce4_level0_row21\" class=\"row_heading level0 row21\" >21</th>\n",
       "      <td id=\"T_f3ce4_row21_col0\" class=\"data row21 col0\" >22</td>\n",
       "      <td id=\"T_f3ce4_row21_col1\" class=\"data row21 col1\" >220</td>\n",
       "      <td id=\"T_f3ce4_row21_col2\" class=\"data row21 col2\" >Arsenal</td>\n",
       "      <td id=\"T_f3ce4_row21_col3\" class=\"data row21 col3\" >Chelsea</td>\n",
       "      <td id=\"T_f3ce4_row21_col4\" class=\"data row21 col4\" >0</td>\n",
       "      <td id=\"T_f3ce4_row21_col5\" class=\"data row21 col5\" >0</td>\n",
       "      <td id=\"T_f3ce4_row21_col6\" class=\"data row21 col6\" >0</td>\n",
       "    </tr>\n",
       "    <tr>\n",
       "      <th id=\"T_f3ce4_level0_row22\" class=\"row_heading level0 row22\" >22</th>\n",
       "      <td id=\"T_f3ce4_row22_col0\" class=\"data row22 col0\" >23</td>\n",
       "      <td id=\"T_f3ce4_row22_col1\" class=\"data row22 col1\" >230</td>\n",
       "      <td id=\"T_f3ce4_row22_col2\" class=\"data row22 col2\" >Wolves</td>\n",
       "      <td id=\"T_f3ce4_row22_col3\" class=\"data row22 col3\" >Arsenal</td>\n",
       "      <td id=\"T_f3ce4_row22_col4\" class=\"data row22 col4\" >1</td>\n",
       "      <td id=\"T_f3ce4_row22_col5\" class=\"data row22 col5\" >2</td>\n",
       "      <td id=\"T_f3ce4_row22_col6\" class=\"data row22 col6\" >1</td>\n",
       "    </tr>\n",
       "    <tr>\n",
       "      <th id=\"T_f3ce4_level0_row23\" class=\"row_heading level0 row23\" >23</th>\n",
       "      <td id=\"T_f3ce4_row23_col0\" class=\"data row23 col0\" >24</td>\n",
       "      <td id=\"T_f3ce4_row23_col1\" class=\"data row23 col1\" >239</td>\n",
       "      <td id=\"T_f3ce4_row23_col2\" class=\"data row23 col2\" >Blackburn</td>\n",
       "      <td id=\"T_f3ce4_row23_col3\" class=\"data row23 col3\" >Arsenal</td>\n",
       "      <td id=\"T_f3ce4_row23_col4\" class=\"data row23 col4\" >2</td>\n",
       "      <td id=\"T_f3ce4_row23_col5\" class=\"data row23 col5\" >6</td>\n",
       "      <td id=\"T_f3ce4_row23_col6\" class=\"data row23 col6\" >1</td>\n",
       "    </tr>\n",
       "    <tr>\n",
       "      <th id=\"T_f3ce4_level0_row24\" class=\"row_heading level0 row24\" >24</th>\n",
       "      <td id=\"T_f3ce4_row24_col0\" class=\"data row24 col0\" >25</td>\n",
       "      <td id=\"T_f3ce4_row24_col1\" class=\"data row24 col1\" >248</td>\n",
       "      <td id=\"T_f3ce4_row24_col2\" class=\"data row24 col2\" >Tottenham</td>\n",
       "      <td id=\"T_f3ce4_row24_col3\" class=\"data row24 col3\" >Arsenal</td>\n",
       "      <td id=\"T_f3ce4_row24_col4\" class=\"data row24 col4\" >8</td>\n",
       "      <td id=\"T_f3ce4_row24_col5\" class=\"data row24 col5\" >0</td>\n",
       "      <td id=\"T_f3ce4_row24_col6\" class=\"data row24 col6\" >-1</td>\n",
       "    </tr>\n",
       "    <tr>\n",
       "      <th id=\"T_f3ce4_level0_row25\" class=\"row_heading level0 row25\" >25</th>\n",
       "      <td id=\"T_f3ce4_row25_col0\" class=\"data row25 col0\" >26</td>\n",
       "      <td id=\"T_f3ce4_row25_col1\" class=\"data row25 col1\" >257</td>\n",
       "      <td id=\"T_f3ce4_row25_col2\" class=\"data row25 col2\" >QPR</td>\n",
       "      <td id=\"T_f3ce4_row25_col3\" class=\"data row25 col3\" >Arsenal</td>\n",
       "      <td id=\"T_f3ce4_row25_col4\" class=\"data row25 col4\" >1</td>\n",
       "      <td id=\"T_f3ce4_row25_col5\" class=\"data row25 col5\" >3</td>\n",
       "      <td id=\"T_f3ce4_row25_col6\" class=\"data row25 col6\" >1</td>\n",
       "    </tr>\n",
       "    <tr>\n",
       "      <th id=\"T_f3ce4_level0_row26\" class=\"row_heading level0 row26\" >26</th>\n",
       "      <td id=\"T_f3ce4_row26_col0\" class=\"data row26 col0\" >27</td>\n",
       "      <td id=\"T_f3ce4_row26_col1\" class=\"data row26 col1\" >266</td>\n",
       "      <td id=\"T_f3ce4_row26_col2\" class=\"data row26 col2\" >Fulham</td>\n",
       "      <td id=\"T_f3ce4_row26_col3\" class=\"data row26 col3\" >Arsenal</td>\n",
       "      <td id=\"T_f3ce4_row26_col4\" class=\"data row26 col4\" >3</td>\n",
       "      <td id=\"T_f3ce4_row26_col5\" class=\"data row26 col5\" >4</td>\n",
       "      <td id=\"T_f3ce4_row26_col6\" class=\"data row26 col6\" >1</td>\n",
       "    </tr>\n",
       "    <tr>\n",
       "      <th id=\"T_f3ce4_level0_row27\" class=\"row_heading level0 row27\" >27</th>\n",
       "      <td id=\"T_f3ce4_row27_col0\" class=\"data row27 col0\" >28</td>\n",
       "      <td id=\"T_f3ce4_row27_col1\" class=\"data row27 col1\" >275</td>\n",
       "      <td id=\"T_f3ce4_row27_col2\" class=\"data row27 col2\" >Leeds</td>\n",
       "      <td id=\"T_f3ce4_row27_col3\" class=\"data row27 col3\" >Arsenal</td>\n",
       "      <td id=\"T_f3ce4_row27_col4\" class=\"data row27 col4\" >2</td>\n",
       "      <td id=\"T_f3ce4_row27_col5\" class=\"data row27 col5\" >0</td>\n",
       "      <td id=\"T_f3ce4_row27_col6\" class=\"data row27 col6\" >-1</td>\n",
       "    </tr>\n",
       "    <tr>\n",
       "      <th id=\"T_f3ce4_level0_row28\" class=\"row_heading level0 row28\" >28</th>\n",
       "      <td id=\"T_f3ce4_row28_col0\" class=\"data row28 col0\" >29</td>\n",
       "      <td id=\"T_f3ce4_row28_col1\" class=\"data row28 col1\" >284</td>\n",
       "      <td id=\"T_f3ce4_row28_col2\" class=\"data row28 col2\" >ManUtd</td>\n",
       "      <td id=\"T_f3ce4_row28_col3\" class=\"data row28 col3\" >Arsenal</td>\n",
       "      <td id=\"T_f3ce4_row28_col4\" class=\"data row28 col4\" >0</td>\n",
       "      <td id=\"T_f3ce4_row28_col5\" class=\"data row28 col5\" >0</td>\n",
       "      <td id=\"T_f3ce4_row28_col6\" class=\"data row28 col6\" >0</td>\n",
       "    </tr>\n",
       "    <tr>\n",
       "      <th id=\"T_f3ce4_level0_row29\" class=\"row_heading level0 row29\" >29</th>\n",
       "      <td id=\"T_f3ce4_row29_col0\" class=\"data row29 col0\" >30</td>\n",
       "      <td id=\"T_f3ce4_row29_col1\" class=\"data row29 col1\" >293</td>\n",
       "      <td id=\"T_f3ce4_row29_col2\" class=\"data row29 col2\" >Sunderland</td>\n",
       "      <td id=\"T_f3ce4_row29_col3\" class=\"data row29 col3\" >Arsenal</td>\n",
       "      <td id=\"T_f3ce4_row29_col4\" class=\"data row29 col4\" >2</td>\n",
       "      <td id=\"T_f3ce4_row29_col5\" class=\"data row29 col5\" >0</td>\n",
       "      <td id=\"T_f3ce4_row29_col6\" class=\"data row29 col6\" >-1</td>\n",
       "    </tr>\n",
       "    <tr>\n",
       "      <th id=\"T_f3ce4_level0_row30\" class=\"row_heading level0 row30\" >30</th>\n",
       "      <td id=\"T_f3ce4_row30_col0\" class=\"data row30 col0\" >31</td>\n",
       "      <td id=\"T_f3ce4_row30_col1\" class=\"data row30 col1\" >302</td>\n",
       "      <td id=\"T_f3ce4_row30_col2\" class=\"data row30 col2\" >WestHam</td>\n",
       "      <td id=\"T_f3ce4_row30_col3\" class=\"data row30 col3\" >Arsenal</td>\n",
       "      <td id=\"T_f3ce4_row30_col4\" class=\"data row30 col4\" >0</td>\n",
       "      <td id=\"T_f3ce4_row30_col5\" class=\"data row30 col5\" >1</td>\n",
       "      <td id=\"T_f3ce4_row30_col6\" class=\"data row30 col6\" >1</td>\n",
       "    </tr>\n",
       "    <tr>\n",
       "      <th id=\"T_f3ce4_level0_row31\" class=\"row_heading level0 row31\" >31</th>\n",
       "      <td id=\"T_f3ce4_row31_col0\" class=\"data row31 col0\" >32</td>\n",
       "      <td id=\"T_f3ce4_row31_col1\" class=\"data row31 col1\" >311</td>\n",
       "      <td id=\"T_f3ce4_row31_col2\" class=\"data row31 col2\" >Arsenal</td>\n",
       "      <td id=\"T_f3ce4_row31_col3\" class=\"data row31 col3\" >ManCity</td>\n",
       "      <td id=\"T_f3ce4_row31_col4\" class=\"data row31 col4\" >0</td>\n",
       "      <td id=\"T_f3ce4_row31_col5\" class=\"data row31 col5\" >0</td>\n",
       "      <td id=\"T_f3ce4_row31_col6\" class=\"data row31 col6\" >0</td>\n",
       "    </tr>\n",
       "    <tr>\n",
       "      <th id=\"T_f3ce4_level0_row32\" class=\"row_heading level0 row32\" >32</th>\n",
       "      <td id=\"T_f3ce4_row32_col0\" class=\"data row32 col0\" >33</td>\n",
       "      <td id=\"T_f3ce4_row32_col1\" class=\"data row32 col1\" >322</td>\n",
       "      <td id=\"T_f3ce4_row32_col2\" class=\"data row32 col2\" >Arsenal</td>\n",
       "      <td id=\"T_f3ce4_row32_col3\" class=\"data row32 col3\" >Reading</td>\n",
       "      <td id=\"T_f3ce4_row32_col4\" class=\"data row32 col4\" >5</td>\n",
       "      <td id=\"T_f3ce4_row32_col5\" class=\"data row32 col5\" >0</td>\n",
       "      <td id=\"T_f3ce4_row32_col6\" class=\"data row32 col6\" >1</td>\n",
       "    </tr>\n",
       "    <tr>\n",
       "      <th id=\"T_f3ce4_level0_row33\" class=\"row_heading level0 row33\" >33</th>\n",
       "      <td id=\"T_f3ce4_row33_col0\" class=\"data row33 col0\" >34</td>\n",
       "      <td id=\"T_f3ce4_row33_col1\" class=\"data row33 col1\" >333</td>\n",
       "      <td id=\"T_f3ce4_row33_col2\" class=\"data row33 col2\" >Arsenal</td>\n",
       "      <td id=\"T_f3ce4_row33_col3\" class=\"data row33 col3\" >Stoke</td>\n",
       "      <td id=\"T_f3ce4_row33_col4\" class=\"data row33 col4\" >0</td>\n",
       "      <td id=\"T_f3ce4_row33_col5\" class=\"data row33 col5\" >2</td>\n",
       "      <td id=\"T_f3ce4_row33_col6\" class=\"data row33 col6\" >-1</td>\n",
       "    </tr>\n",
       "    <tr>\n",
       "      <th id=\"T_f3ce4_level0_row34\" class=\"row_heading level0 row34\" >34</th>\n",
       "      <td id=\"T_f3ce4_row34_col0\" class=\"data row34 col0\" >35</td>\n",
       "      <td id=\"T_f3ce4_row34_col1\" class=\"data row34 col1\" >344</td>\n",
       "      <td id=\"T_f3ce4_row34_col2\" class=\"data row34 col2\" >Arsenal</td>\n",
       "      <td id=\"T_f3ce4_row34_col3\" class=\"data row34 col3\" >Everton</td>\n",
       "      <td id=\"T_f3ce4_row34_col4\" class=\"data row34 col4\" >2</td>\n",
       "      <td id=\"T_f3ce4_row34_col5\" class=\"data row34 col5\" >3</td>\n",
       "      <td id=\"T_f3ce4_row34_col6\" class=\"data row34 col6\" >-1</td>\n",
       "    </tr>\n",
       "    <tr>\n",
       "      <th id=\"T_f3ce4_level0_row35\" class=\"row_heading level0 row35\" >35</th>\n",
       "      <td id=\"T_f3ce4_row35_col0\" class=\"data row35 col0\" >36</td>\n",
       "      <td id=\"T_f3ce4_row35_col1\" class=\"data row35 col1\" >355</td>\n",
       "      <td id=\"T_f3ce4_row35_col2\" class=\"data row35 col2\" >Arsenal</td>\n",
       "      <td id=\"T_f3ce4_row35_col3\" class=\"data row35 col3\" >Liverpool</td>\n",
       "      <td id=\"T_f3ce4_row35_col4\" class=\"data row35 col4\" >0</td>\n",
       "      <td id=\"T_f3ce4_row35_col5\" class=\"data row35 col5\" >2</td>\n",
       "      <td id=\"T_f3ce4_row35_col6\" class=\"data row35 col6\" >-1</td>\n",
       "    </tr>\n",
       "    <tr>\n",
       "      <th id=\"T_f3ce4_level0_row36\" class=\"row_heading level0 row36\" >36</th>\n",
       "      <td id=\"T_f3ce4_row36_col0\" class=\"data row36 col0\" >37</td>\n",
       "      <td id=\"T_f3ce4_row36_col1\" class=\"data row36 col1\" >366</td>\n",
       "      <td id=\"T_f3ce4_row36_col2\" class=\"data row36 col2\" >Arsenal</td>\n",
       "      <td id=\"T_f3ce4_row36_col3\" class=\"data row36 col3\" >Southampton</td>\n",
       "      <td id=\"T_f3ce4_row36_col4\" class=\"data row36 col4\" >6</td>\n",
       "      <td id=\"T_f3ce4_row36_col5\" class=\"data row36 col5\" >0</td>\n",
       "      <td id=\"T_f3ce4_row36_col6\" class=\"data row36 col6\" >1</td>\n",
       "    </tr>\n",
       "    <tr>\n",
       "      <th id=\"T_f3ce4_level0_row37\" class=\"row_heading level0 row37\" >37</th>\n",
       "      <td id=\"T_f3ce4_row37_col0\" class=\"data row37 col0\" >38</td>\n",
       "      <td id=\"T_f3ce4_row37_col1\" class=\"data row37 col1\" >377</td>\n",
       "      <td id=\"T_f3ce4_row37_col2\" class=\"data row37 col2\" >Arsenal</td>\n",
       "      <td id=\"T_f3ce4_row37_col3\" class=\"data row37 col3\" >AstonVilla</td>\n",
       "      <td id=\"T_f3ce4_row37_col4\" class=\"data row37 col4\" >0</td>\n",
       "      <td id=\"T_f3ce4_row37_col5\" class=\"data row37 col5\" >0</td>\n",
       "      <td id=\"T_f3ce4_row37_col6\" class=\"data row37 col6\" >0</td>\n",
       "    </tr>\n",
       "  </tbody>\n",
       "</table>\n"
      ],
      "text/plain": [
       "<pandas.io.formats.style.Styler at 0x133ffe0ee80>"
      ]
     },
     "execution_count": 20,
     "metadata": {},
     "output_type": "execute_result"
    }
   ],
   "source": [
    "filtered_matches = team_filter.get_filtered_team_matches(team_filter.selected_team)\n",
    "filtered_matches.style.applymap(team_filter.color_result, subset=[team_filter.selected_team + '_WDL']) "
   ]
  },
  {
   "attachments": {},
   "cell_type": "markdown",
   "id": "17e103d8",
   "metadata": {},
   "source": [
    "## Goals Analysis\n",
    "\n",
    "Analysis of goals scored for and agains the selected team."
   ]
  },
  {
   "cell_type": "code",
   "execution_count": 21,
   "id": "3b17329a",
   "metadata": {},
   "outputs": [],
   "source": [
    "# Get GF and GA for selected team:\n",
    "goals_for, goals_against = team_filter.get_goals_for_and_against(filtered_matches, team_filter.selected_team)\n",
    "\n",
    "# print('GF', goals_for)\n",
    "# print('GA', goals_against)\n"
   ]
  },
  {
   "cell_type": "code",
   "execution_count": 22,
   "id": "126017cd",
   "metadata": {},
   "outputs": [
    {
     "data": {
      "image/png": "[encoded data removed]",
      "text/plain": [
       "<Figure size 640x480 with 2 Axes>"
      ]
     },
     "metadata": {},
     "output_type": "display_data"
    }
   ],
   "source": [
    "# Box-whisker plot: \"Min\", 25th perc, 50th perc (Median), 75 perc, \"Max\", outliers.\n",
    "fig, (ax1, ax2) = plt.subplots(nrows=1, ncols=2, sharey=True)\n",
    "ax1.boxplot(goals_for)\n",
    "ax1.set_title(f'Goals For {team_filter.selected_team}')\n",
    "\n",
    "ax2.boxplot(goals_against)\n",
    "ax2.set_title(f'Goals Against {team_filter.selected_team}')\n",
    "\n",
    "plt.show()"
   ]
  },
  {
   "cell_type": "code",
   "execution_count": null,
   "id": "95f8e369",
   "metadata": {},
   "outputs": [],
   "source": []
  }
 ],
 "metadata": {
  "celltoolbar": "Edit Metadata",
  "kernelspec": {
   "display_name": "Python 3 (ipykernel)",
   "language": "python",
   "name": "python3"
  },
  "language_info": {
   "codemirror_mode": {
    "name": "ipython",
    "version": 3
   },
   "file_extension": ".py",
   "mimetype": "text/x-python",
   "name": "python",
   "nbconvert_exporter": "python",
   "pygments_lexer": "ipython3",
   "version": "3.9.15"
  },
  "vscode": {
   "interpreter": {
    "hash": "75c7ad8b170e93a871a021a23afe54d26777051fe1eb6f1a7ee8e8f9b5795aa4"
   }
  }
 },
 "nbformat": 4,
 "nbformat_minor": 5
}
